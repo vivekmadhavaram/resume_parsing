{
 "cells": [
  {
   "cell_type": "code",
   "execution_count": 3,
   "metadata": {},
   "outputs": [
    {
     "name": "stdout",
     "output_type": "stream",
     "text": [
      "<_sre.SRE_Match object; span=(103, 129), match='vivek.vardhan134@gmail.com'>\n"
     ]
    }
   ],
   "source": [
    "import tika\n",
    "from tika import parser\n",
    "import re\n",
    "class ResumeParsing:\n",
    "    def parseAnyFile():\n",
    "        tika.initVM()\n",
    "        parsed = parser.from_file(\"Resume.docx\")\n",
    "       # print(parsed[\"content\"])\n",
    "        regular_expression = re.compile(r\"[A-Z0-9._%+-]+@[A-Z0-9.-]+\\.[A-Z]{2,4}\", re.IGNORECASE)\n",
    "        result = re.search(regular_expression,parsed[\"content\"])\n",
    "        print(result)\n",
    "    if __name__==\"__main__\":\n",
    "        parseAnyFile()\n"
   ]
  },
  {
   "cell_type": "code",
   "execution_count": 14,
   "metadata": {},
   "outputs": [
    {
     "name": "stdout",
     "output_type": "stream",
     "text": [
      "<_sre.SRE_Match object; span=(90, 100), match='9160877356'>\n"
     ]
    }
   ],
   "source": [
    "import tika\n",
    "from tika import parser\n",
    "import re\n",
    "class ResumeParsing:\n",
    "    def parseAnyFile():\n",
    "        tika.initVM()\n",
    "        parsed = parser.from_file(\"Resume.docx\")\n",
    "       # print(parsed[\"content\"])\n",
    "        regular_expression = re.compile(r\"[0-9]{10}\", re.IGNORECASE)\n",
    "        result = re.search(regular_expression,parsed[\"content\"])\n",
    "        print(result)\n",
    "    if __name__==\"__main__\":\n",
    "        parseAnyFile()"
   ]
  },
  {
   "cell_type": "code",
   "execution_count": 17,
   "metadata": {},
   "outputs": [
    {
     "name": "stdout",
     "output_type": "stream",
     "text": [
      "<_sre.SRE_Match object; span=(57, 87), match='567 MIG KPHB, Hyderabad 500072'>\n"
     ]
    }
   ],
   "source": [
    "import tika\n",
    "from tika import parser\n",
    "import re\n",
    "class ResumeParsing:\n",
    "    def parseAnyFile():\n",
    "        tika.initVM()\n",
    "        parsed = parser.from_file(\"Resume.docx\")\n",
    "        #print(parsed[\"content\"])\n",
    "        regular_expression = re.compile(r\"[0-9]{3}[A-Z ,]{1,50}[0-9]{6}\", re.IGNORECASE)\n",
    "        result = re.search(regular_expression,parsed[\"content\"])\n",
    "        print(result)\n",
    "    if __name__==\"__main__\":\n",
    "        parseAnyFile()"
   ]
  },
  {
   "cell_type": "code",
   "execution_count": null,
   "metadata": {
    "collapsed": true
   },
   "outputs": [],
   "source": []
  }
 ],
 "metadata": {
  "kernelspec": {
   "display_name": "Python 3",
   "language": "python",
   "name": "python3"
  },
  "language_info": {
   "codemirror_mode": {
    "name": "ipython",
    "version": 3
   },
   "file_extension": ".py",
   "mimetype": "text/x-python",
   "name": "python",
   "nbconvert_exporter": "python",
   "pygments_lexer": "ipython3",
   "version": "3.6.1"
  }
 },
 "nbformat": 4,
 "nbformat_minor": 2
}
